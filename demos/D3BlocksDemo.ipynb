{
 "cells": [
  {
   "cell_type": "markdown",
   "metadata": {},
   "source": [
    "### Quickstart: Graphing d3 blocks relationships\n",
    "This simple example from our [quickstart walkthrough](http://graphistry.github.io/pygraphistry/index.html#quickstart-graph-les-misérables) introduces the basics of PyGraphistry. We also have more advanced tutorials avaiable.\n",
    "\n",
    "You can [download this notebook](https://github.com/graphistry/pygraphistry/tree/master/demos) to run it locally."
   ]
  },
  {
   "cell_type": "code",
   "execution_count": 1,
   "metadata": {
    "collapsed": false
   },
   "outputs": [],
   "source": [
    "import pandas\n",
    "import graphistry\n",
    "\n",
    "graphistry.register(key='3d6d02d1f22f6ef73d0785d115de870ccc18a18f2a80974595dd649898d06279')"
   ]
  },
  {
   "cell_type": "code",
   "execution_count": 5,
   "metadata": {
    "collapsed": false
   },
   "outputs": [],
   "source": [
    "# Parse CSV using Pandas\n",
    "links = pandas.read_csv('data/readme-links-relationships.csv')\n",
    "nodes = pandas.read_csv('data/readme-links-blocks.csv')"
   ]
  },
  {
   "cell_type": "code",
   "execution_count": 6,
   "metadata": {
    "collapsed": false
   },
   "outputs": [
    {
     "data": {
      "text/html": [
       "<div>\n",
       "<style>\n",
       "    .dataframe thead tr:only-child th {\n",
       "        text-align: right;\n",
       "    }\n",
       "\n",
       "    .dataframe thead th {\n",
       "        text-align: left;\n",
       "    }\n",
       "\n",
       "    .dataframe tbody tr th {\n",
       "        vertical-align: top;\n",
       "    }\n",
       "</style>\n",
       "<table border=\"1\" class=\"dataframe\">\n",
       "  <thead>\n",
       "    <tr style=\"text-align: right;\">\n",
       "      <th></th>\n",
       "      <th>:START_ID</th>\n",
       "      <th>:END_ID</th>\n",
       "      <th>:TYPE</th>\n",
       "    </tr>\n",
       "  </thead>\n",
       "  <tbody>\n",
       "    <tr>\n",
       "      <th>0</th>\n",
       "      <td>950642</td>\n",
       "      <td>4062045</td>\n",
       "      <td>LINKS_TO</td>\n",
       "    </tr>\n",
       "    <tr>\n",
       "      <th>1</th>\n",
       "      <td>1341281</td>\n",
       "      <td>1341021</td>\n",
       "      <td>LINKS_TO</td>\n",
       "    </tr>\n",
       "    <tr>\n",
       "      <th>2</th>\n",
       "      <td>1731123</td>\n",
       "      <td>1731123</td>\n",
       "      <td>LINKS_TO</td>\n",
       "    </tr>\n",
       "  </tbody>\n",
       "</table>\n",
       "</div>"
      ],
      "text/plain": [
       "  :START_ID  :END_ID     :TYPE\n",
       "0    950642  4062045  LINKS_TO\n",
       "1   1341281  1341021  LINKS_TO\n",
       "2   1731123  1731123  LINKS_TO"
      ]
     },
     "execution_count": 6,
     "metadata": {},
     "output_type": "execute_result"
    }
   ],
   "source": [
    "# Let's have a peek at our data by printing the first three rows\n",
    "links[:3]"
   ]
  },
  {
   "cell_type": "code",
   "execution_count": 11,
   "metadata": {
    "collapsed": false,
    "scrolled": false
   },
   "outputs": [
    {
     "data": {
      "text/html": [
       "\n",
       "            <iframe id=\"ada8a337-03f4-4859-98b5-d504a8ef40a9\" src=\"https://labs.graphistry.com/graph/graph.html?dataset=PyGraphistry/A0B4MMITL4&type=vgraph&viztoken=e751f6f750dc8cb3d18c5e876b54f1f40d807f0f&usertag=160a52e1-pygraphistry-0.9.51&splashAfter=1507836072&info=true\"\n",
       "                    allowfullscreen=\"true\" webkitallowfullscreen=\"true\" mozallowfullscreen=\"true\"\n",
       "                    oallowfullscreen=\"true\" msallowfullscreen=\"true\"\n",
       "                    style=\"width:100%; height:500px; border: 1px solid #DDD\">\n",
       "            </iframe>\n",
       "        \n",
       "            <script>\n",
       "                $(\"#ada8a337-03f4-4859-98b5-d504a8ef40a9\").bind('mousewheel', function(e) {\n",
       "                e.preventDefault();\n",
       "                });\n",
       "            </script>\n",
       "        "
      ],
      "text/plain": [
       "<IPython.core.display.HTML object>"
      ]
     },
     "execution_count": 11,
     "metadata": {},
     "output_type": "execute_result"
    }
   ],
   "source": [
    "# Plot graph using the source/target columns as source/destination of edges\n",
    "plotter = graphistry.bind(source=':START_ID', destination=':END_ID').bind(node = 'gistId:ID').nodes(nodes)\n",
    "plotter.plot(links)"
   ]
  },
  {
   "cell_type": "code",
   "execution_count": 8,
   "metadata": {
    "collapsed": false
   },
   "outputs": [
    {
     "data": {
      "text/html": [
       "\n",
       "            <iframe id=\"b795bc15-e2a5-42ba-9a8a-ba51a55077ff\" src=\"https://labs.graphistry.com/graph/graph.html?dataset=PyGraphistry/I8U82JHL6W&type=vgraph&viztoken=026ed19b976c1394154d7b3814136ea75e47cd79&usertag=160a52e1-pygraphistry-0.9.51&splashAfter=1507767917&info=true\"\n",
       "                    allowfullscreen=\"true\" webkitallowfullscreen=\"true\" mozallowfullscreen=\"true\"\n",
       "                    oallowfullscreen=\"true\" msallowfullscreen=\"true\"\n",
       "                    style=\"width:100%; height:500px; border: 1px solid #DDD\">\n",
       "            </iframe>\n",
       "        \n",
       "            <script>\n",
       "                $(\"#b795bc15-e2a5-42ba-9a8a-ba51a55077ff\").bind('mousewheel', function(e) {\n",
       "                e.preventDefault();\n",
       "                });\n",
       "            </script>\n",
       "        "
      ],
      "text/plain": [
       "<IPython.core.display.HTML object>"
      ]
     },
     "execution_count": 8,
     "metadata": {},
     "output_type": "execute_result"
    }
   ],
   "source": [
    "# New graph adding the number of encounters to edge labels.\n",
    "links['label'] = links.value.map(lambda v: 'Num. Encounters: %d' % v)\n",
    "plotter = plotter.bind(edge_label='label')\n",
    "plotter.plot(links)"
   ]
  },
  {
   "cell_type": "markdown",
   "metadata": {
    "collapsed": true
   },
   "source": [
    "### Controling Node Size and Color\n",
    "We are going to use Igraph to color nodes by community and size them using pagerank. To install igraph, use `pip install python-igraph`"
   ]
  },
  {
   "cell_type": "code",
   "execution_count": 9,
   "metadata": {
    "collapsed": false
   },
   "outputs": [
    {
     "ename": "ModuleNotFoundError",
     "evalue": "No module named 'igraph'",
     "output_type": "error",
     "traceback": [
      "\u001b[0;31m---------------------------------------------------------------------------\u001b[0m",
      "\u001b[0;31mModuleNotFoundError\u001b[0m                       Traceback (most recent call last)",
      "\u001b[0;32m<ipython-input-9-ed5a4f365cc6>\u001b[0m in \u001b[0;36m<module>\u001b[0;34m()\u001b[0m\n\u001b[1;32m      1\u001b[0m \u001b[0;31m# Convert our graph from Pandas to Igraph\u001b[0m\u001b[0;34m\u001b[0m\u001b[0;34m\u001b[0m\u001b[0m\n\u001b[0;32m----> 2\u001b[0;31m \u001b[0;32mimport\u001b[0m \u001b[0migraph\u001b[0m\u001b[0;34m\u001b[0m\u001b[0m\n\u001b[0m\u001b[1;32m      3\u001b[0m \u001b[0mig\u001b[0m \u001b[0;34m=\u001b[0m \u001b[0mplotter\u001b[0m\u001b[0;34m.\u001b[0m\u001b[0mpandas2igraph\u001b[0m\u001b[0;34m(\u001b[0m\u001b[0mlinks\u001b[0m\u001b[0;34m)\u001b[0m\u001b[0;34m\u001b[0m\u001b[0m\n\u001b[1;32m      4\u001b[0m \u001b[0migraph\u001b[0m\u001b[0;34m.\u001b[0m\u001b[0msummary\u001b[0m\u001b[0;34m(\u001b[0m\u001b[0mig\u001b[0m\u001b[0;34m)\u001b[0m\u001b[0;34m\u001b[0m\u001b[0m\n",
      "\u001b[0;31mModuleNotFoundError\u001b[0m: No module named 'igraph'"
     ]
    }
   ],
   "source": [
    "# Convert our graph from Pandas to Igraph\n",
    "import igraph\n",
    "ig = plotter.pandas2igraph(links)\n",
    "igraph.summary(ig)"
   ]
  },
  {
   "cell_type": "code",
   "execution_count": 7,
   "metadata": {
    "collapsed": false
   },
   "outputs": [
    {
     "name": "stdout",
     "output_type": "stream",
     "text": [
      "IGRAPH D--- 77 254 -- \n",
      "+ attr: __nodeid__ (v), community (v), pagerank (v), label (e), value (e)\n"
     ]
    }
   ],
   "source": [
    "# We create two node attributes for pagerank and community\n",
    "ig.vs['pagerank'] = ig.pagerank()\n",
    "ig.vs['community'] = ig.community_infomap().membership \n",
    "igraph.summary(ig)"
   ]
  },
  {
   "cell_type": "code",
   "execution_count": 8,
   "metadata": {
    "collapsed": false
   },
   "outputs": [
    {
     "data": {
      "text/html": [
       "\n",
       "            <iframe id=\"6e4fa4f0-2223-4b4d-9bed-2d6d814e502a\" src=\"https://labs.graphistry.com/graph/graph.html?dataset=PyGraphistry/1954M97C4S&type=vgraph&viztoken=ce4fd405c8fcdcfa4d92e5cf61b8d0886d923717&usertag=8e721f2c-pygraphistry-0.9.22&splashAfter=1456351837&info=true\"\n",
       "                    style=\"width:100%; height:500px; border: 1px solid #DDD\">\n",
       "            </iframe>\n",
       "        \n",
       "            <script>\n",
       "                $(\"#6e4fa4f0-2223-4b4d-9bed-2d6d814e502a\").bind('mousewheel', function(e) {\n",
       "                e.preventDefault();\n",
       "                });\n",
       "            </script>\n",
       "        "
      ],
      "text/plain": [
       "<IPython.core.display.HTML object>"
      ]
     },
     "execution_count": 8,
     "metadata": {},
     "output_type": "execute_result"
    }
   ],
   "source": [
    "# The plotter can plot Igraph directly\n",
    "plotter.bind(point_color='community', point_size='pagerank').plot(ig)"
   ]
  }
 ],
 "metadata": {
  "kernelspec": {
   "display_name": "Python 3",
   "language": "python",
   "name": "python3"
  },
  "language_info": {
   "codemirror_mode": {
    "name": "ipython",
    "version": 3
   },
   "file_extension": ".py",
   "mimetype": "text/x-python",
   "name": "python",
   "nbconvert_exporter": "python",
   "pygments_lexer": "ipython3",
   "version": "3.6.0"
  }
 },
 "nbformat": 4,
 "nbformat_minor": 0
}
